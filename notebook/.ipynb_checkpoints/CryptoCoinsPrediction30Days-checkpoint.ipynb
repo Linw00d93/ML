{
 "cells": [
  {
   "cell_type": "code",
   "execution_count": null,
   "id": "2ada392e",
   "metadata": {},
   "outputs": [],
   "source": [
    "import pandas as pd\n",
    "import yfinance as yf\n",
    "import datetime\n",
    "from datetime import date, timedelta\n",
    "today = date.today()\n",
    "\n",
    "d1 = today.strftime(\"%Y-%m-%d\")\n",
    "end_date = d1\n",
    "d2 = date.today() - timedelta(days=1825)\n",
    "d2 = d2.strftime(\"%Y-%m-%d\")\n",
    "start_date = d2\n",
    "\n",
    "data = yf.download('BTC-USD', \n",
    "                      start=start_date, \n",
    "                      end=end_date, \n",
    "                      progress=False)\n",
    "data[\"Date\"] = data.index\n",
    "data = data[[\"Date\", \"Open\", \"High\", \"Low\", \"Close\", \"Adj Close\", \"Volume\"]]\n",
    "data.reset_index(drop=True, inplace=True)\n",
    "print(data.head())"
   ]
  },
  {
   "cell_type": "code",
   "execution_count": null,
   "id": "3a315612",
   "metadata": {},
   "outputs": [],
   "source": [
    "data.shape"
   ]
  },
  {
   "cell_type": "code",
   "execution_count": null,
   "id": "955a11ba",
   "metadata": {},
   "outputs": [],
   "source": [
    "import plotly.graph_objects as go\n",
    "figure = go.Figure(data=[go.Candlestick(x=data[\"Date\"],\n",
    "                                        open=data[\"Open\"], \n",
    "                                        high=data[\"High\"],\n",
    "                                        low=data[\"Low\"], \n",
    "                                        close=data[\"Close\"])])\n",
    "figure.update_layout(title = \"Bitcoin Price Analysis\", \n",
    "                     xaxis_rangeslider_visible=False)\n",
    "figure.show()"
   ]
  },
  {
   "cell_type": "code",
   "execution_count": null,
   "id": "306752c7",
   "metadata": {},
   "outputs": [],
   "source": [
    "correlation = data.corr()\n",
    "print(correlation[\"Close\"].sort_values(ascending=False))"
   ]
  },
  {
   "cell_type": "code",
   "execution_count": null,
   "id": "17402b57",
   "metadata": {},
   "outputs": [],
   "source": [
    "from autots import AutoTS\n",
    "model = AutoTS(forecast_length=30, frequency='infer', ensemble='simple')\n",
    "model = model.fit(data, date_col='Date', value_col='Close', id_col=None)\n",
    "prediction = model.predict()\n",
    "forecast = prediction.forecast\n",
    "print(forecast[-1])"
   ]
  },
  {
   "cell_type": "code",
   "execution_count": null,
   "id": "971b3ce9",
   "metadata": {},
   "outputs": [],
   "source": []
  }
 ],
 "metadata": {
  "kernelspec": {
   "display_name": "Python 3",
   "language": "python",
   "name": "python3"
  },
  "language_info": {
   "codemirror_mode": {
    "name": "ipython",
    "version": 3
   },
   "file_extension": ".py",
   "mimetype": "text/x-python",
   "name": "python",
   "nbconvert_exporter": "python",
   "pygments_lexer": "ipython3",
   "version": "3.6.9"
  }
 },
 "nbformat": 4,
 "nbformat_minor": 5
}
